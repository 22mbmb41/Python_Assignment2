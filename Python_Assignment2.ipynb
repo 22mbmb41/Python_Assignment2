{
 "cells": [
  {
   "cell_type": "markdown",
   "id": "4585b6cd-f406-4192-93bb-f111a062d6c5",
   "metadata": {},
   "source": [
    "Q1. How can we store a single quote (‘) as a string in a var1able?"
   ]
  },
  {
   "cell_type": "code",
   "execution_count": 27,
   "id": "1cba42af-ab1f-4324-85af-bac9493ac759",
   "metadata": {},
   "outputs": [
    {
     "name": "stdout",
     "output_type": "stream",
     "text": [
      "This is a string with a single quote (').\n"
     ]
    }
   ],
   "source": [
    "var_name = 'This is a string with a single quote (\\').'\n",
    "print(var_name)  # Output: This is a string with a single quote (')."
   ]
  },
  {
   "cell_type": "code",
   "execution_count": 28,
   "id": "40b053fd-ba7c-4ba2-82c8-dd8bff4db701",
   "metadata": {},
   "outputs": [
    {
     "name": "stdout",
     "output_type": "stream",
     "text": [
      "This is a string with a single quote (').\n"
     ]
    }
   ],
   "source": [
    "var_name = \"This is a string with a single quote (').\"\n",
    "print(var_name)  # Output: This is a string with a double quote (\")."
   ]
  },
  {
   "cell_type": "markdown",
   "id": "fa85005d-4923-4c01-82b4-36c2ab2dcb1c",
   "metadata": {},
   "source": [
    "Q2. Refer the below variable:\n",
    "x = 'a'\n",
    "Here, is x a character type or string type variable? Support your answer with an explanation."
   ]
  },
  {
   "cell_type": "code",
   "execution_count": 30,
   "id": "27752731-6ca8-4ec4-a1d7-e17361b8c70c",
   "metadata": {},
   "outputs": [
    {
     "name": "stdout",
     "output_type": "stream",
     "text": [
      "<class 'str'>\n"
     ]
    }
   ],
   "source": [
    "x='a'\n",
    "print(type(x)) # Output: <class 'str'>"
   ]
  },
  {
   "cell_type": "markdown",
   "id": "a51d9caf-41ea-41d8-a286-f68270be68e0",
   "metadata": {},
   "source": [
    "Q3. Apply the follow1ng functions on this variable: ‘Welcome to Python foundation course'\n",
    " find ()\n",
    " count()\n",
    " len()\n",
    " Concatenation"
   ]
  },
  {
   "cell_type": "code",
   "execution_count": 33,
   "id": "76b73a18-320a-43c1-b463-e83998e3cb91",
   "metadata": {},
   "outputs": [
    {
     "name": "stdout",
     "output_type": "stream",
     "text": [
      "11\n",
      "6\n",
      "Welcome to Python foundation course sudhir\n"
     ]
    }
   ],
   "source": [
    "text = 'Welcome to Python foundation course'\n",
    "name = ' sudhir'\n",
    "# Find the index of \"Python\"\n",
    "python_index = text.find(\"Python\")\n",
    "print(python_index)  # Output: 11\n",
    "\n",
    "count_o = text.count('o')\n",
    "print(count_o)\n",
    "\n",
    "len(text)\n",
    "\n",
    "concatenation_text = text + name\n",
    "print(concatenation_text)"
   ]
  },
  {
   "cell_type": "markdown",
   "id": "2e6132ae-130c-4175-bd3b-da33d6117485",
   "metadata": {},
   "source": [
    "Q4. For the var1able: wor = ‘PanaJi@12256'\n",
    "Calculate the follow1ng:\n",
    "(a) Total number of alphabets in lowercase\n",
    "(b) Total number of alphabets in uppercase\n",
    "(c) Total number of numerical in string"
   ]
  },
  {
   "cell_type": "code",
   "execution_count": 34,
   "id": "bd013180-c0e3-427b-854c-da8ce10644f5",
   "metadata": {},
   "outputs": [
    {
     "name": "stdout",
     "output_type": "stream",
     "text": [
      "Total lowercase alphabets: 4\n",
      "Total uppercase alphabets: 2\n",
      "Total numerical digits: 5\n"
     ]
    }
   ],
   "source": [
    "word = 'PanaJi@12256'\n",
    "\n",
    "lowercase_count = 0\n",
    "uppercase_count = 0\n",
    "numerical_count = 0\n",
    "\n",
    "for char in word:\n",
    "    \n",
    "      if char.islower():\n",
    "        lowercase_count += 1\n",
    "        \n",
    "      elif char.isupper():\n",
    "        uppercase_count += 1\n",
    "      elif char.isdigit():\n",
    "        numerical_count += 1\n",
    "\n",
    "print(\"Total lowercase alphabets:\", lowercase_count)\n",
    "print(\"Total uppercase alphabets:\", uppercase_count)\n",
    "print(\"Total numerical digits:\", numerical_count)\n"
   ]
  },
  {
   "cell_type": "markdown",
   "id": "4e015ecc-2d7e-4460-aa3d-e87c2c3d5a59",
   "metadata": {},
   "source": [
    "Q5. Write a code to store a numerical value inside  a variable then convert it into string."
   ]
  },
  {
   "cell_type": "code",
   "execution_count": 35,
   "id": "b7fea2c0-6434-4542-a0ef-89ae70f59f94",
   "metadata": {},
   "outputs": [
    {
     "name": "stdout",
     "output_type": "stream",
     "text": [
      "Numerical value: 12345\n",
      "String value: 12345\n"
     ]
    }
   ],
   "source": [
    "# Store a numerical value in a variable\n",
    "numerical_value = 12345\n",
    "\n",
    "# Convert the numerical value to a string\n",
    "string_value = str(numerical_value)\n",
    "\n",
    "# Print the original and converted values\n",
    "print(\"Numerical value:\", numerical_value)\n",
    "print(\"String value:\", string_value)"
   ]
  },
  {
   "cell_type": "code",
   "execution_count": null,
   "id": "751238ca-4cc7-448b-8e40-344f0a6c4d50",
   "metadata": {},
   "outputs": [],
   "source": []
  }
 ],
 "metadata": {
  "kernelspec": {
   "display_name": "Python 3 (ipykernel)",
   "language": "python",
   "name": "python3"
  },
  "language_info": {
   "codemirror_mode": {
    "name": "ipython",
    "version": 3
   },
   "file_extension": ".py",
   "mimetype": "text/x-python",
   "name": "python",
   "nbconvert_exporter": "python",
   "pygments_lexer": "ipython3",
   "version": "3.10.8"
  }
 },
 "nbformat": 4,
 "nbformat_minor": 5
}
